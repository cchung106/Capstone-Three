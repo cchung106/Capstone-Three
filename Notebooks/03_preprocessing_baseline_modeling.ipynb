{
 "cells": [
  {
   "cell_type": "markdown",
   "id": "2038313f",
   "metadata": {},
   "source": [
    "# Understanding School Performance on Pennsylvania Standardized Tests"
   ]
  },
  {
   "cell_type": "markdown",
   "id": "e604294d",
   "metadata": {},
   "source": [
    "## Preprocessing and Baseline Modeling"
   ]
  },
  {
   "cell_type": "markdown",
   "id": "c385e8fa",
   "metadata": {},
   "source": [
    "objective of this notebook\n",
    "- design matrix \n",
    "- build the simplest baseline model with results and metrics"
   ]
  },
  {
   "cell_type": "markdown",
   "id": "3e3bf5e7",
   "metadata": {},
   "source": []
  },
  {
   "cell_type": "markdown",
   "id": "343a36e3",
   "metadata": {},
   "source": [
    "### Contents:\n",
    "\n",
    "1. Import packages and load data\n",
    "2. assess pairwise collinearity\n",
    "3. train test split\n",
    "4. feature scaling\n",
    "5. baseline modeling\n",
    "6. plan for extended modeling\n"
   ]
  },
  {
   "cell_type": "code",
   "execution_count": null,
   "id": "f89214cf",
   "metadata": {},
   "outputs": [],
   "source": []
  },
  {
   "cell_type": "markdown",
   "id": "117226c0",
   "metadata": {},
   "source": [
    "## 1. Import packages and load data"
   ]
  },
  {
   "cell_type": "code",
   "execution_count": 1,
   "id": "6386d9cb",
   "metadata": {},
   "outputs": [],
   "source": [
    "# import packages\n",
    "import pandas as pd\n",
    "import numpy as np\n",
    "import matplotlib.pyplot as plt\n",
    "import seaborn as sns\n",
    "\n",
    "from sklearn.model_selection import train_test_split\n",
    "from sklearn.preprocessing import StandardScaler\n",
    "from sklearn.linear_model import LinearRegression\n",
    "from sklearn.metrics import r2_score, mean_squared_error, mean_absolute_error"
   ]
  },
  {
   "cell_type": "code",
   "execution_count": 2,
   "id": "10336e60",
   "metadata": {},
   "outputs": [],
   "source": [
    "# load cleaned data from csv file\n",
    "df = pd.read_csv('../Data/school_data_1819_2.csv', index_col = 0)"
   ]
  },
  {
   "cell_type": "code",
   "execution_count": 3,
   "id": "7f57efa0",
   "metadata": {},
   "outputs": [
    {
     "data": {
      "text/plain": [
       "SchoolName                                                             object\n",
       "SchoolNumber                                                            int64\n",
       "School Zip Code                                                         int64\n",
       "DistrictName                                                           object\n",
       "AUN                                                                     int64\n",
       "Title I School                                                         object\n",
       "Title I (Binary)                                                        int64\n",
       "School Enrollment                                                       int64\n",
       "Male (School)                                                         float64\n",
       "Female (School)                                                       float64\n",
       "Percent Regular Attendance (All Student)                              float64\n",
       "American Indian/Alaskan Native                                        float64\n",
       "Asian                                                                 float64\n",
       "Black/African American                                                float64\n",
       "Hispanic                                                              float64\n",
       "Native Hawaiian or other Pacific Islander                             float64\n",
       "White                                                                 float64\n",
       "2 or More Races                                                       float64\n",
       "English Learner                                                       float64\n",
       "Special Education                                                     float64\n",
       "Percent of Gifted Students                                            float64\n",
       "Economically Disadvantaged                                            float64\n",
       "Foster Care                                                           float64\n",
       "Homeless                                                              float64\n",
       "Military Connected                                                    float64\n",
       "Local - Non-Personnel                                                 float64\n",
       "Local - Personnel                                                     float64\n",
       "Total Local Expenditure                                               float64\n",
       "State - Non-Personnel                                                 float64\n",
       "State - Personnel                                                     float64\n",
       "Total State Expenditure                                               float64\n",
       "Federal - Non-Personnel                                               float64\n",
       "Federal - Personnel                                                   float64\n",
       "Total Federal Expenditure                                             float64\n",
       "Total Non-Personnel Expenditure                                       float64\n",
       "Total Personnel Expenditure                                           float64\n",
       "Total Expenditure                                                     float64\n",
       "Percent Proficient or Advanced ELA/Literature (All Student)           float64\n",
       "Percent Proficient or Advanced Mathematics/Algebra 1 (All Student)    float64\n",
       "dtype: object"
      ]
     },
     "execution_count": 3,
     "metadata": {},
     "output_type": "execute_result"
    }
   ],
   "source": [
    "# check data types\n",
    "df.dtypes"
   ]
  },
  {
   "cell_type": "markdown",
   "id": "a5968f1b",
   "metadata": {},
   "source": [
    "The following features should <u>not</u> be recognized as numeric variables:\n",
    "- SchoolNumber\n",
    "- School Zip Code\n",
    "- AUN\n",
    "\n",
    "We will convert these into objects."
   ]
  },
  {
   "cell_type": "code",
   "execution_count": 4,
   "id": "6dcaaf55",
   "metadata": {},
   "outputs": [],
   "source": [
    "#convert columns to object\n",
    "cols = ['SchoolNumber',\n",
    "        'School Zip Code',\n",
    "        'AUN']\n",
    "\n",
    "for col in cols:\n",
    "    df[col]=df[col].astype(str)"
   ]
  },
  {
   "cell_type": "code",
   "execution_count": 5,
   "id": "edb2d823",
   "metadata": {},
   "outputs": [],
   "source": [
    "# establish design matrix, call it 'predictors'\n",
    "predictors = df.drop(['SchoolName', \\\n",
    "                      'SchoolNumber', \\\n",
    "                      'School Zip Code', \\\n",
    "                      'DistrictName', \\\n",
    "                      'AUN', \\\n",
    "                      'Title I School', \\\n",
    "                      'Percent Proficient or Advanced ELA/Literature (All Student)', \\\n",
    "                      'Percent Proficient or Advanced Mathematics/Algebra 1 (All Student)'], \\\n",
    "                     axis = 1) \n",
    "\n",
    "# target vectors\n",
    "target_ELA = df['Percent Proficient or Advanced ELA/Literature (All Student)']\n",
    "target_math = df['Percent Proficient or Advanced Mathematics/Algebra 1 (All Student)']"
   ]
  },
  {
   "cell_type": "markdown",
   "id": "b2c2292b",
   "metadata": {},
   "source": [
    "## 2. Assess pairwise collinearity"
   ]
  },
  {
   "cell_type": "markdown",
   "id": "58f3e82d",
   "metadata": {},
   "source": [
    "As we observed in the previous notebook, there are quite a few of our independent variables that are correlated with another.  With that in mind, there is concern that this may lead to overfitting and an increase in the error of our model. \n",
    "\n",
    "By looking at the pairwise collinearity of our variables, we can identify and place feature pairs in one of three buckets based on the correlation coefficients:\n",
    "\n",
    "- $|r|$ is <b>0.5 or below:</b> low correlation\n",
    "- $|r|$ is between <b>0.5 and 0.7:</b> mid correlation\n",
    "- $|r|$ is <b>0.7 and above:</b> high correlation\n",
    "\n",
    "We will look at the mid correlation and high correlation buckets and determine any features that may potentially be deleted and generate a list.\n",
    "\n",
    "In our next notebook (extended modeling), we will train, test, and compare models with all features included vs highly correlated features removed.  We will also explore models such as ridge regression and LASSO regression that can introduce penalization on information that is redundant."
   ]
  },
  {
   "cell_type": "code",
   "execution_count": 6,
   "id": "184d3b59",
   "metadata": {},
   "outputs": [],
   "source": [
    "# Construct correlation matrix and take the absolute value of all correlation coefficients\n",
    "corr_abs = predictors.corr().abs()\n",
    "\n",
    "# Select upper triangle of correlation matrix\n",
    "upper_corr_abs = corr_abs.where(np.triu(np.ones(corr_abs.shape), k=1).astype(bool))"
   ]
  },
  {
   "cell_type": "code",
   "execution_count": 7,
   "id": "ae3b1a67",
   "metadata": {},
   "outputs": [
    {
     "data": {
      "image/png": "[encoded data removed]",
      "text/plain": [
       "<Figure size 1080x864 with 2 Axes>"
      ]
     },
     "metadata": {
      "needs_background": "light"
     },
     "output_type": "display_data"
    }
   ],
   "source": [
    "# plot the correlation heatmap\n",
    "plt.subplots(figsize=(15,12))\n",
    "sns.heatmap(upper_corr_abs)\n",
    "plt.show()"
   ]
  },
  {
   "cell_type": "markdown",
   "id": "1a68375e",
   "metadata": {},
   "source": [
    "Looking at this heatmap of pairwise correlation, there definitely exist predictor variables that are highly correlated with another. \n",
    "\n",
    "We'll create three functions that will take this correlation matrix and identify which pairs of features are highly correlated, somewhat correlated, and not very correlated."
   ]
  },
  {
   "cell_type": "code",
   "execution_count": 8,
   "id": "b5a663eb",
   "metadata": {},
   "outputs": [],
   "source": [
    "def high_corr(correlation_matrix, high_threshold):\n",
    "    \"\"\"creates a list of feature pairs as tuples that are highly correlated\"\"\"\n",
    "    \n",
    "    high_corr_list = []\n",
    "    \n",
    "    for i in range(len(correlation_matrix)):\n",
    "    #iterate through 'i' rows\n",
    "    \n",
    "        for j in range(len(correlation_matrix)):\n",
    "        #iterate through 'j' columns\n",
    "            if correlation_matrix.iloc[i][j] > high_threshold:\n",
    "                high_corr_list.append((correlation_matrix.index[i], correlation_matrix.columns[j], round(correlation_matrix.iloc[i][j], 4)))\n",
    "    \n",
    "    return high_corr_list\n",
    "\n",
    "\n",
    "def mid_corr(correlation_matrix, mid_threshold, high_threshold):\n",
    "    \"\"\"creates a list of feature pairs as tuples that are somewhat correlated\"\"\"\n",
    "    \n",
    "    mid_corr_list = []\n",
    "    \n",
    "    for i in range(len(correlation_matrix)):\n",
    "    #iterate through 'i' rows\n",
    "    \n",
    "        for j in range(len(correlation_matrix)):\n",
    "        #iterate through 'j' columns\n",
    "            if correlation_matrix.iloc[i][j] > mid_threshold and correlation_matrix.iloc[i][j] <= high_threshold:\n",
    "                mid_corr_list.append((correlation_matrix.index[i], correlation_matrix.columns[j], round(correlation_matrix.iloc[i][j], 4)))\n",
    "    \n",
    "    return mid_corr_list\n",
    "\n",
    "\n",
    "def low_corr(correlation_matrix, mid_threshold):\n",
    "    \"\"\"creates a list of feature pairs as tuples that have low correlation\"\"\"\n",
    "    \n",
    "    low_corr_list = []\n",
    "    \n",
    "    for i in range(len(correlation_matrix)):\n",
    "    #iterate through 'i' rows\n",
    "    \n",
    "        for j in range(len(correlation_matrix)):\n",
    "        #iterate through 'j' columns\n",
    "            if correlation_matrix.iloc[i][j] <= mid_threshold:\n",
    "                low_corr_list.append((correlation_matrix.index[i], correlation_matrix.columns[j], round(correlation_matrix.iloc[i][j], 4)))\n",
    "    \n",
    "    return low_corr_list"
   ]
  },
  {
   "cell_type": "markdown",
   "id": "5b30a1c4",
   "metadata": {},
   "source": [
    "Now that we have the functions defined, we'll examine the pairwise collinearity of our dataset."
   ]
  },
  {
   "cell_type": "code",
   "execution_count": 9,
   "id": "9c19dae0",
   "metadata": {
    "scrolled": true
   },
   "outputs": [
    {
     "data": {
      "text/plain": [
       "[('Title I (Binary)', 'School Enrollment', 0.1363),\n",
       " ('Title I (Binary)', 'Male (School)', 0.0385),\n",
       " ('Title I (Binary)', 'Female (School)', 0.0385),\n",
       " ('Title I (Binary)', 'Percent Regular Attendance (All Student)', 0.1328),\n",
       " ('Title I (Binary)', 'American Indian/Alaskan Native', 0.019),\n",
       " ('Title I (Binary)', 'Asian', 0.0689),\n",
       " ('Title I (Binary)', 'Black/African American', 0.3422),\n",
       " ('Title I (Binary)', 'Hispanic', 0.2471),\n",
       " ('Title I (Binary)', 'Native Hawaiian or other Pacific Islander', 0.0026),\n",
       " ('Title I (Binary)', 'White', 0.4123),\n",
       " ('Title I (Binary)', '2 or More Races', 0.2533),\n",
       " ('Title I (Binary)', 'English Learner', 0.2693),\n",
       " ('Title I (Binary)', 'Special Education', 0.0792),\n",
       " ('Title I (Binary)', 'Percent of Gifted Students', 0.43),\n",
       " ('Title I (Binary)', 'Economically Disadvantaged', 0.4959),\n",
       " ('Title I (Binary)', 'Foster Care', 0.2375),\n",
       " ('Title I (Binary)', 'Homeless', 0.2545),\n",
       " ('Title I (Binary)', 'Military Connected', 0.055),\n",
       " ('Title I (Binary)', 'Local - Non-Personnel', 0.0363),\n",
       " ('Title I (Binary)', 'Local - Personnel', 0.1253),\n",
       " ('Title I (Binary)', 'Total Local Expenditure', 0.0924),\n",
       " ('Title I (Binary)', 'State - Non-Personnel', 0.0924),\n",
       " ('Title I (Binary)', 'State - Personnel', 0.0793),\n",
       " ('Title I (Binary)', 'Total State Expenditure', 0.0876),\n",
       " ('Title I (Binary)', 'Federal - Non-Personnel', 0.262),\n",
       " ('Title I (Binary)', 'Total Non-Personnel Expenditure', 0.009),\n",
       " ('Title I (Binary)', 'Total Personnel Expenditure', 0.1003),\n",
       " ('Title I (Binary)', 'Total Expenditure', 0.081),\n",
       " ('School Enrollment', 'Male (School)', 0.0372),\n",
       " ('School Enrollment', 'Female (School)', 0.0372),\n",
       " ('School Enrollment', 'Percent Regular Attendance (All Student)', 0.0988),\n",
       " ('School Enrollment', 'American Indian/Alaskan Native', 0.0076),\n",
       " ('School Enrollment', 'Asian', 0.1547),\n",
       " ('School Enrollment', 'Black/African American', 0.003),\n",
       " ('School Enrollment', 'Hispanic', 0.1309),\n",
       " ('School Enrollment', 'Native Hawaiian or other Pacific Islander', 0.0013),\n",
       " ('School Enrollment', 'White', 0.0909),\n",
       " ('School Enrollment', '2 or More Races', 0.0314),\n",
       " ('School Enrollment', 'English Learner', 0.1071),\n",
       " ('School Enrollment', 'Special Education', 0.0408),\n",
       " ('School Enrollment', 'Percent of Gifted Students', 0.2091),\n",
       " ('School Enrollment', 'Economically Disadvantaged', 0.0822),\n",
       " ('School Enrollment', 'Foster Care', 0.0894),\n",
       " ('School Enrollment', 'Homeless', 0.0824),\n",
       " ('School Enrollment', 'Military Connected', 0.0191),\n",
       " ('School Enrollment', 'Local - Non-Personnel', 0.0874),\n",
       " ('School Enrollment', 'Local - Personnel', 0.0494),\n",
       " ('School Enrollment', 'Total Local Expenditure', 0.0712),\n",
       " ('School Enrollment', 'State - Non-Personnel', 0.1164),\n",
       " ('School Enrollment', 'State - Personnel', 0.1195),\n",
       " ('School Enrollment', 'Total State Expenditure', 0.1263),\n",
       " ('School Enrollment', 'Federal - Non-Personnel', 0.0064),\n",
       " ('School Enrollment', 'Federal - Personnel', 0.124),\n",
       " ('School Enrollment', 'Total Federal Expenditure', 0.1094),\n",
       " ('School Enrollment', 'Total Non-Personnel Expenditure', 0.0165),\n",
       " ('School Enrollment', 'Total Personnel Expenditure', 0.0617),\n",
       " ('School Enrollment', 'Total Expenditure', 0.0453),\n",
       " ('Male (School)', 'Percent Regular Attendance (All Student)', 0.0751),\n",
       " ('Male (School)', 'American Indian/Alaskan Native', 0.0175),\n",
       " ('Male (School)', 'Asian', 0.0052),\n",
       " ('Male (School)', 'Black/African American', 0.0027),\n",
       " ('Male (School)', 'Hispanic', 0.0157),\n",
       " ('Male (School)', 'Native Hawaiian or other Pacific Islander', 0.0141),\n",
       " ('Male (School)', 'White', 0.0125),\n",
       " ('Male (School)', '2 or More Races', 0.0136),\n",
       " ('Male (School)', 'English Learner', 0.046),\n",
       " ('Male (School)', 'Special Education', 0.278),\n",
       " ('Male (School)', 'Percent of Gifted Students', 0.0274),\n",
       " ('Male (School)', 'Economically Disadvantaged', 0.0258),\n",
       " ('Male (School)', 'Foster Care', 0.1759),\n",
       " ('Male (School)', 'Homeless', 0.0728),\n",
       " ('Male (School)', 'Military Connected', 0.0021),\n",
       " ('Male (School)', 'Local - Non-Personnel', 0.0488),\n",
       " ('Male (School)', 'Local - Personnel', 0.0254),\n",
       " ('Male (School)', 'Total Local Expenditure', 0.0045),\n",
       " ('Male (School)', 'State - Non-Personnel', 0.0624),\n",
       " ('Male (School)', 'State - Personnel', 0.0714),\n",
       " ('Male (School)', 'Total State Expenditure', 0.0736),\n",
       " ('Male (School)', 'Federal - Non-Personnel', 0.044),\n",
       " ('Male (School)', 'Federal - Personnel', 0.0554),\n",
       " ('Male (School)', 'Total Federal Expenditure', 0.0591),\n",
       " ('Male (School)', 'Total Non-Personnel Expenditure', 0.0068),\n",
       " ('Male (School)', 'Total Personnel Expenditure', 0.0887),\n",
       " ('Male (School)', 'Total Expenditure', 0.0721),\n",
       " ('Female (School)', 'Percent Regular Attendance (All Student)', 0.0751),\n",
       " ('Female (School)', 'American Indian/Alaskan Native', 0.0175),\n",
       " ('Female (School)', 'Asian', 0.0052),\n",
       " ('Female (School)', 'Black/African American', 0.0027),\n",
       " ('Female (School)', 'Hispanic', 0.0157),\n",
       " ('Female (School)', 'Native Hawaiian or other Pacific Islander', 0.0141),\n",
       " ('Female (School)', 'White', 0.0125),\n",
       " ('Female (School)', '2 or More Races', 0.0136),\n",
       " ('Female (School)', 'English Learner', 0.046),\n",
       " ('Female (School)', 'Special Education', 0.278),\n",
       " ('Female (School)', 'Percent of Gifted Students', 0.0274),\n",
       " ('Female (School)', 'Economically Disadvantaged', 0.0258),\n",
       " ('Female (School)', 'Foster Care', 0.1759),\n",
       " ('Female (School)', 'Homeless', 0.0728),\n",
       " ('Female (School)', 'Military Connected', 0.0021),\n",
       " ('Female (School)', 'Local - Non-Personnel', 0.0488),\n",
       " ('Female (School)', 'Local - Personnel', 0.0254),\n",
       " ('Female (School)', 'Total Local Expenditure', 0.0045),\n",
       " ('Female (School)', 'State - Non-Personnel', 0.0624),\n",
       " ('Female (School)', 'State - Personnel', 0.0714),\n",
       " ('Female (School)', 'Total State Expenditure', 0.0736),\n",
       " ('Female (School)', 'Federal - Non-Personnel', 0.044),\n",
       " ('Female (School)', 'Federal - Personnel', 0.0554),\n",
       " ('Female (School)', 'Total Federal Expenditure', 0.0591),\n",
       " ('Female (School)', 'Total Non-Personnel Expenditure', 0.0068),\n",
       " ('Female (School)', 'Total Personnel Expenditure', 0.0887),\n",
       " ('Female (School)', 'Total Expenditure', 0.0721),\n",
       " ('Percent Regular Attendance (All Student)',\n",
       "  'American Indian/Alaskan Native',\n",
       "  0.0596),\n",
       " ('Percent Regular Attendance (All Student)', 'Asian', 0.1861),\n",
       " ('Percent Regular Attendance (All Student)', 'Hispanic', 0.1852),\n",
       " ('Percent Regular Attendance (All Student)',\n",
       "  'Native Hawaiian or other Pacific Islander',\n",
       "  0.0178),\n",
       " ('Percent Regular Attendance (All Student)', 'White', 0.4801),\n",
       " ('Percent Regular Attendance (All Student)', '2 or More Races', 0.06),\n",
       " ('Percent Regular Attendance (All Student)', 'English Learner', 0.179),\n",
       " ('Percent Regular Attendance (All Student)', 'Special Education', 0.412),\n",
       " ('Percent Regular Attendance (All Student)',\n",
       "  'Percent of Gifted Students',\n",
       "  0.2169),\n",
       " ('Percent Regular Attendance (All Student)', 'Foster Care', 0.4968),\n",
       " ('Percent Regular Attendance (All Student)', 'Homeless', 0.3679),\n",
       " ('Percent Regular Attendance (All Student)', 'Military Connected', 0.0646),\n",
       " ('Percent Regular Attendance (All Student)', 'Local - Non-Personnel', 0.0905),\n",
       " ('Percent Regular Attendance (All Student)', 'Local - Personnel', 0.1471),\n",
       " ('Percent Regular Attendance (All Student)',\n",
       "  'Total Local Expenditure',\n",
       "  0.0921),\n",
       " ('Percent Regular Attendance (All Student)', 'State - Non-Personnel', 0.0668),\n",
       " ('Percent Regular Attendance (All Student)', 'State - Personnel', 0.0213),\n",
       " ('Percent Regular Attendance (All Student)',\n",
       "  'Total State Expenditure',\n",
       "  0.034),\n",
       " ('Percent Regular Attendance (All Student)',\n",
       "  'Federal - Non-Personnel',\n",
       "  0.2651),\n",
       " ('Percent Regular Attendance (All Student)', 'Federal - Personnel', 0.4039),\n",
       " ('Percent Regular Attendance (All Student)',\n",
       "  'Total Federal Expenditure',\n",
       "  0.4168),\n",
       " ('Percent Regular Attendance (All Student)',\n",
       "  'Total Non-Personnel Expenditure',\n",
       "  0.133),\n",
       " ('Percent Regular Attendance (All Student)',\n",
       "  'Total Personnel Expenditure',\n",
       "  0.0689),\n",
       " ('Percent Regular Attendance (All Student)', 'Total Expenditure', 0.0041),\n",
       " ('American Indian/Alaskan Native', 'Asian', 0.0071),\n",
       " ('American Indian/Alaskan Native', 'Black/African American', 0.1066),\n",
       " ('American Indian/Alaskan Native', 'Hispanic', 0.0292),\n",
       " ('American Indian/Alaskan Native',\n",
       "  'Native Hawaiian or other Pacific Islander',\n",
       "  0.0521),\n",
       " ('American Indian/Alaskan Native', 'White', 0.0835),\n",
       " ('American Indian/Alaskan Native', '2 or More Races', 0.0754),\n",
       " ('American Indian/Alaskan Native', 'English Learner', 0.0356),\n",
       " ('American Indian/Alaskan Native', 'Special Education', 0.0511),\n",
       " ('American Indian/Alaskan Native', 'Percent of Gifted Students', 0.0653),\n",
       " ('American Indian/Alaskan Native', 'Economically Disadvantaged', 0.0816),\n",
       " ('American Indian/Alaskan Native', 'Foster Care', 0.0772),\n",
       " ('American Indian/Alaskan Native', 'Homeless', 0.0496),\n",
       " ('American Indian/Alaskan Native', 'Military Connected', 0.0094),\n",
       " ('American Indian/Alaskan Native', 'Local - Non-Personnel', 0.0721),\n",
       " ('American Indian/Alaskan Native', 'Local - Personnel', 0.025),\n",
       " ('American Indian/Alaskan Native', 'Total Local Expenditure', 0.0456),\n",
       " ('American Indian/Alaskan Native', 'State - Non-Personnel', 0.0168),\n",
       " ('American Indian/Alaskan Native', 'State - Personnel', 0.0059),\n",
       " ('American Indian/Alaskan Native', 'Total State Expenditure', 0.009),\n",
       " ('American Indian/Alaskan Native', 'Federal - Non-Personnel', 0.043),\n",
       " ('American Indian/Alaskan Native', 'Federal - Personnel', 0.0583),\n",
       " ('American Indian/Alaskan Native', 'Total Federal Expenditure', 0.0613),\n",
       " ('American Indian/Alaskan Native', 'Total Non-Personnel Expenditure', 0.0731),\n",
       " ('American Indian/Alaskan Native', 'Total Personnel Expenditure', 0.0383),\n",
       " ('American Indian/Alaskan Native', 'Total Expenditure', 0.0621),\n",
       " ('Asian', 'Black/African American', 0.0397),\n",
       " ('Asian', 'Hispanic', 0.0123),\n",
       " ('Asian', 'Native Hawaiian or other Pacific Islander', 0.0306),\n",
       " ('Asian', 'White', 0.1712),\n",
       " ('Asian', '2 or More Races', 0.127),\n",
       " ('Asian', 'English Learner', 0.3312),\n",
       " ('Asian', 'Special Education', 0.21),\n",
       " ('Asian', 'Percent of Gifted Students', 0.1964),\n",
       " ('Asian', 'Economically Disadvantaged', 0.2565),\n",
       " ('Asian', 'Foster Care', 0.1538),\n",
       " ('Asian', 'Homeless', 0.1808),\n",
       " ('Asian', 'Military Connected', 0.0222),\n",
       " ('Asian', 'Local - Non-Personnel', 0.0587),\n",
       " ('Asian', 'Local - Personnel', 0.2891),\n",
       " ('Asian', 'Total Local Expenditure', 0.2619),\n",
       " ('Asian', 'State - Non-Personnel', 0.218),\n",
       " ('Asian', 'State - Personnel', 0.235),\n",
       " ('Asian', 'Total State Expenditure', 0.2456),\n",
       " ('Asian', 'Federal - Non-Personnel', 0.0204),\n",
       " ('Asian', 'Federal - Personnel', 0.0495),\n",
       " ('Asian', 'Total Federal Expenditure', 0.0481),\n",
       " ('Asian', 'Total Non-Personnel Expenditure', 0.0587),\n",
       " ('Asian', 'Total Personnel Expenditure', 0.0998),\n",
       " ('Asian', 'Total Expenditure', 0.0603),\n",
       " ('Black/African American', 'Hispanic', 0.0369),\n",
       " ('Black/African American',\n",
       "  'Native Hawaiian or other Pacific Islander',\n",
       "  0.0045),\n",
       " ('Black/African American', '2 or More Races', 0.1892),\n",
       " ('Black/African American', 'English Learner', 0.1131),\n",
       " ('Black/African American', 'Special Education', 0.212),\n",
       " ('Black/African American', 'Percent of Gifted Students', 0.2558),\n",
       " ('Black/African American', 'Foster Care', 0.483),\n",
       " ('Black/African American', 'Homeless', 0.3115),\n",
       " ('Black/African American', 'Military Connected', 0.083),\n",
       " ('Black/African American', 'Local - Non-Personnel', 0.2732),\n",
       " ('Black/African American', 'Local - Personnel', 0.0659),\n",
       " ('Black/African American', 'Total Local Expenditure', 0.1485),\n",
       " ('Black/African American', 'State - Non-Personnel', 0.199),\n",
       " ('Black/African American', 'State - Personnel', 0.2663),\n",
       " ('Black/African American', 'Total State Expenditure', 0.2664),\n",
       " ('Black/African American', 'Federal - Non-Personnel', 0.3121),\n",
       " ('Black/African American', 'Total Non-Personnel Expenditure', 0.1619),\n",
       " ('Black/African American', 'Total Personnel Expenditure', 0.052),\n",
       " ('Black/African American', 'Total Expenditure', 0.0219),\n",
       " ('Hispanic', 'Native Hawaiian or other Pacific Islander', 0.0187),\n",
       " ('Hispanic', '2 or More Races', 0.0943),\n",
       " ('Hispanic', 'Special Education', 0.034),\n",
       " ('Hispanic', 'Percent of Gifted Students', 0.1728),\n",
       " ('Hispanic', 'Economically Disadvantaged', 0.4378),\n",
       " ('Hispanic', 'Foster Care', 0.0171),\n",
       " ('Hispanic', 'Homeless', 0.3029),\n",
       " ('Hispanic', 'Military Connected', 0.04),\n",
       " ('Hispanic', 'Local - Non-Personnel', 0.009),\n",
       " ('Hispanic', 'Local - Personnel', 0.0756),\n",
       " ('Hispanic', 'Total Local Expenditure', 0.0663),\n",
       " ('Hispanic', 'State - Non-Personnel', 0.0754),\n",
       " ('Hispanic', 'State - Personnel', 0.0185),\n",
       " ('Hispanic', 'Total State Expenditure', 0.0339),\n",
       " ('Hispanic', 'Federal - Non-Personnel', 0.2338),\n",
       " ('Hispanic', 'Federal - Personnel', 0.2579),\n",
       " ('Hispanic', 'Total Federal Expenditure', 0.2821),\n",
       " ('Hispanic', 'Total Non-Personnel Expenditure', 0.0236),\n",
       " ('Hispanic', 'Total Personnel Expenditure', 0.0505),\n",
       " ('Hispanic', 'Total Expenditure', 0.0522),\n",
       " ('Native Hawaiian or other Pacific Islander', 'White', 0.0102),\n",
       " ('Native Hawaiian or other Pacific Islander', '2 or More Races', 0.0396),\n",
       " ('Native Hawaiian or other Pacific Islander', 'English Learner', 0.014),\n",
       " ('Native Hawaiian or other Pacific Islander', 'Special Education', 0.0194),\n",
       " ('Native Hawaiian or other Pacific Islander',\n",
       "  'Percent of Gifted Students',\n",
       "  0.0073),\n",
       " ('Native Hawaiian or other Pacific Islander',\n",
       "  'Economically Disadvantaged',\n",
       "  0.0111),\n",
       " ('Native Hawaiian or other Pacific Islander', 'Foster Care', 0.0033),\n",
       " ('Native Hawaiian or other Pacific Islander', 'Homeless', 0.0019),\n",
       " ('Native Hawaiian or other Pacific Islander', 'Military Connected', 0.0281),\n",
       " ('Native Hawaiian or other Pacific Islander',\n",
       "  'Local - Non-Personnel',\n",
       "  0.0134),\n",
       " ('Native Hawaiian or other Pacific Islander', 'Local - Personnel', 0.0126),\n",
       " ('Native Hawaiian or other Pacific Islander',\n",
       "  'Total Local Expenditure',\n",
       "  0.0151),\n",
       " ('Native Hawaiian or other Pacific Islander',\n",
       "  'State - Non-Personnel',\n",
       "  0.0213),\n",
       " ('Native Hawaiian or other Pacific Islander', 'State - Personnel', 0.047),\n",
       " ('Native Hawaiian or other Pacific Islander',\n",
       "  'Total State Expenditure',\n",
       "  0.0436),\n",
       " ('Native Hawaiian or other Pacific Islander',\n",
       "  'Federal - Non-Personnel',\n",
       "  0.017),\n",
       " ('Native Hawaiian or other Pacific Islander', 'Federal - Personnel', 0.0093),\n",
       " ('Native Hawaiian or other Pacific Islander',\n",
       "  'Total Federal Expenditure',\n",
       "  0.0123),\n",
       " ('Native Hawaiian or other Pacific Islander',\n",
       "  'Total Non-Personnel Expenditure',\n",
       "  0.0202),\n",
       " ('Native Hawaiian or other Pacific Islander',\n",
       "  'Total Personnel Expenditure',\n",
       "  0.0473),\n",
       " ('Native Hawaiian or other Pacific Islander', 'Total Expenditure', 0.0482),\n",
       " ('White', '2 or More Races', 0.3323),\n",
       " ('White', 'Special Education', 0.1558),\n",
       " ('White', 'Percent of Gifted Students', 0.2654),\n",
       " ('White', 'Foster Care', 0.3687),\n",
       " ('White', 'Homeless', 0.3869),\n",
       " ('White', 'Military Connected', 0.0893),\n",
       " ('White', 'Local - Non-Personnel', 0.2183),\n",
       " ('White', 'Local - Personnel', 0.0758),\n",
       " ('White', 'Total Local Expenditure', 0.1381),\n",
       " ('White', 'State - Non-Personnel', 0.2498),\n",
       " ('White', 'State - Personnel', 0.2732),\n",
       " ('White', 'Total State Expenditure', 0.2846),\n",
       " ('White', 'Federal - Non-Personnel', 0.3747),\n",
       " ('White', 'Total Non-Personnel Expenditure', 0.0961),\n",
       " ('White', 'Total Personnel Expenditure', 0.0435),\n",
       " ('White', 'Total Expenditure', 0.0024),\n",
       " ('2 or More Races', 'English Learner', 0.1433),\n",
       " ('2 or More Races', 'Special Education', 0.0909),\n",
       " ('2 or More Races', 'Percent of Gifted Students', 0.0926),\n",
       " ('2 or More Races', 'Economically Disadvantaged', 0.2345),\n",
       " ('2 or More Races', 'Foster Care', 0.0917),\n",
       " ('2 or More Races', 'Homeless', 0.158),\n",
       " ('2 or More Races', 'Military Connected', 0.0063),\n",
       " ('2 or More Races', 'Local - Non-Personnel', 0.0135),\n",
       " ('2 or More Races', 'Local - Personnel', 0.1013),\n",
       " ('2 or More Races', 'Total Local Expenditure', 0.0801),\n",
       " ('2 or More Races', 'State - Non-Personnel', 0.1416),\n",
       " ('2 or More Races', 'State - Personnel', 0.1203),\n",
       " ('2 or More Races', 'Total State Expenditure', 0.1332),\n",
       " ('2 or More Races', 'Federal - Non-Personnel', 0.1092),\n",
       " ('2 or More Races', 'Federal - Personnel', 0.2299),\n",
       " ('2 or More Races', 'Total Federal Expenditure', 0.227),\n",
       " ('2 or More Races', 'Total Non-Personnel Expenditure', 0.0709),\n",
       " ('2 or More Races', 'Total Personnel Expenditure', 0.0433),\n",
       " ('2 or More Races', 'Total Expenditure', 0.0077),\n",
       " ('English Learner', 'Special Education', 0.0081),\n",
       " ('English Learner', 'Percent of Gifted Students', 0.1956),\n",
       " ('English Learner', 'Economically Disadvantaged', 0.3957),\n",
       " ('English Learner', 'Foster Care', 0.0436),\n",
       " ('English Learner', 'Homeless', 0.2746),\n",
       " ('English Learner', 'Military Connected', 0.0479),\n",
       " ('English Learner', 'Local - Non-Personnel', 0.0082),\n",
       " ('English Learner', 'Local - Personnel', 0.0256),\n",
       " ('English Learner', 'Total Local Expenditure', 0.0242),\n",
       " ('English Learner', 'State - Non-Personnel', 0.1088),\n",
       " ('English Learner', 'State - Personnel', 0.0702),\n",
       " ('English Learner', 'Total State Expenditure', 0.0842),\n",
       " ('English Learner', 'Federal - Non-Personnel', 0.2417),\n",
       " ('English Learner', 'Federal - Personnel', 0.325),\n",
       " ('English Learner', 'Total Federal Expenditure', 0.3423),\n",
       " ('English Learner', 'Total Non-Personnel Expenditure', 0.0385),\n",
       " ('English Learner', 'Total Personnel Expenditure', 0.0302),\n",
       " ('English Learner', 'Total Expenditure', 0.0412),\n",
       " ('Special Education', 'Percent of Gifted Students', 0.1047),\n",
       " ('Special Education', 'Economically Disadvantaged', 0.3255),\n",
       " ('Special Education', 'Foster Care', 0.3883),\n",
       " ('Special Education', 'Homeless', 0.2625),\n",
       " ('Special Education', 'Military Connected', 0.0186),\n",
       " ('Special Education', 'Local - Non-Personnel', 0.0436),\n",
       " ('Special Education', 'Local - Personnel', 0.0489),\n",
       " ('Special Education', 'Total Local Expenditure', 0.026),\n",
       " ('Special Education', 'State - Non-Personnel', 0.0729),\n",
       " ('Special Education', 'State - Personnel', 0.0899),\n",
       " ('Special Education', 'Total State Expenditure', 0.0913),\n",
       " ('Special Education', 'Federal - Non-Personnel', 0.1756),\n",
       " ('Special Education', 'Federal - Personnel', 0.211),\n",
       " ('Special Education', 'Total Federal Expenditure', 0.2269),\n",
       " ('Special Education', 'Total Non-Personnel Expenditure', 0.0882),\n",
       " ('Special Education', 'Total Personnel Expenditure', 0.0526),\n",
       " ('Special Education', 'Total Expenditure', 0.0803),\n",
       " ('Percent of Gifted Students', 'Economically Disadvantaged', 0.4915),\n",
       " ('Percent of Gifted Students', 'Foster Care', 0.2552),\n",
       " ('Percent of Gifted Students', 'Homeless', 0.2342),\n",
       " ('Percent of Gifted Students', 'Military Connected', 0.0038),\n",
       " ('Percent of Gifted Students', 'Local - Non-Personnel', 0.0188),\n",
       " ('Percent of Gifted Students', 'Local - Personnel', 0.279),\n",
       " ('Percent of Gifted Students', 'Total Local Expenditure', 0.227),\n",
       " ('Percent of Gifted Students', 'State - Non-Personnel', 0.0096),\n",
       " ('Percent of Gifted Students', 'State - Personnel', 0.0088),\n",
       " ('Percent of Gifted Students', 'Total State Expenditure', 0.0047),\n",
       " ('Percent of Gifted Students', 'Federal - Non-Personnel', 0.1798),\n",
       " ('Percent of Gifted Students', 'Federal - Personnel', 0.3679),\n",
       " ('Percent of Gifted Students', 'Total Federal Expenditure', 0.3645),\n",
       " ('Percent of Gifted Students', 'Total Non-Personnel Expenditure', 0.0367),\n",
       " ('Percent of Gifted Students', 'Total Personnel Expenditure', 0.2291),\n",
       " ('Percent of Gifted Students', 'Total Expenditure', 0.1784),\n",
       " ('Economically Disadvantaged', 'Foster Care', 0.4326),\n",
       " ('Economically Disadvantaged', 'Military Connected', 0.0518),\n",
       " ('Economically Disadvantaged', 'Local - Non-Personnel', 0.0324),\n",
       " ('Economically Disadvantaged', 'Local - Personnel', 0.3115),\n",
       " ('Economically Disadvantaged', 'Total Local Expenditure', 0.2494),\n",
       " ('Economically Disadvantaged', 'State - Non-Personnel', 0.1152),\n",
       " ('Economically Disadvantaged', 'State - Personnel', 0.1276),\n",
       " ('Economically Disadvantaged', 'Total State Expenditure', 0.1325),\n",
       " ('Economically Disadvantaged', 'Federal - Non-Personnel', 0.3739),\n",
       " ('Economically Disadvantaged', 'Total Non-Personnel Expenditure', 0.1172),\n",
       " ('Economically Disadvantaged', 'Total Personnel Expenditure', 0.1154),\n",
       " ('Economically Disadvantaged', 'Total Expenditure', 0.0497),\n",
       " ('Foster Care', 'Homeless', 0.3026),\n",
       " ('Foster Care', 'Military Connected', 0.0482),\n",
       " ('Foster Care', 'Local - Non-Personnel', 0.0326),\n",
       " ('Foster Care', 'Local - Personnel', 0.0612),\n",
       " ('Foster Care', 'Total Local Expenditure', 0.0401),\n",
       " ('Foster Care', 'State - Non-Personnel', 0.0531),\n",
       " ('Foster Care', 'State - Personnel', 0.0786),\n",
       " ('Foster Care', 'Total State Expenditure', 0.0772),\n",
       " ('Foster Care', 'Federal - Non-Personnel', 0.1847),\n",
       " ('Foster Care', 'Federal - Personnel', 0.4308),\n",
       " ('Foster Care', 'Total Federal Expenditure', 0.4204),\n",
       " ('Foster Care', 'Total Non-Personnel Expenditure', 0.0181),\n",
       " ('Foster Care', 'Total Personnel Expenditure', 0.0561),\n",
       " ('Foster Care', 'Total Expenditure', 0.04),\n",
       " ('Homeless', 'Military Connected', 0.0223),\n",
       " ('Homeless', 'Local - Non-Personnel', 0.0397),\n",
       " ('Homeless', 'Local - Personnel', 0.1237),\n",
       " ('Homeless', 'Total Local Expenditure', 0.0899),\n",
       " ('Homeless', 'State - Non-Personnel', 0.1689),\n",
       " ('Homeless', 'State - Personnel', 0.1587),\n",
       " ('Homeless', 'Total State Expenditure', 0.1713),\n",
       " ('Homeless', 'Federal - Non-Personnel', 0.2578),\n",
       " ('Homeless', 'Federal - Personnel', 0.3593),\n",
       " ('Homeless', 'Total Federal Expenditure', 0.3762),\n",
       " ('Homeless', 'Total Non-Personnel Expenditure', 0.1392),\n",
       " ('Homeless', 'Total Personnel Expenditure', 0.0536),\n",
       " ('Homeless', 'Total Expenditure', 0.1019),\n",
       " ('Military Connected', 'Local - Non-Personnel', 0.0021),\n",
       " ('Military Connected', 'Local - Personnel', 0.0387),\n",
       " ('Military Connected', 'Total Local Expenditure', 0.0331),\n",
       " ('Military Connected', 'State - Non-Personnel', 0.0354),\n",
       " ('Military Connected', 'State - Personnel', 0.0363),\n",
       " ('Military Connected', 'Total State Expenditure', 0.0384),\n",
       " ('Military Connected', 'Federal - Non-Personnel', 0.0468),\n",
       " ('Military Connected', 'Federal - Personnel', 0.0714),\n",
       " ('Military Connected', 'Total Federal Expenditure', 0.0736),\n",
       " ('Military Connected', 'Total Non-Personnel Expenditure', 0.0113),\n",
       " ('Military Connected', 'Total Personnel Expenditure', 0.0215),\n",
       " ('Military Connected', 'Total Expenditure', 0.0135),\n",
       " ('Local - Non-Personnel', 'Local - Personnel', 0.3207),\n",
       " ('Local - Non-Personnel', 'State - Non-Personnel', 0.013),\n",
       " ('Local - Non-Personnel', 'State - Personnel', 0.293),\n",
       " ('Local - Non-Personnel', 'Total State Expenditure', 0.2418),\n",
       " ('Local - Non-Personnel', 'Federal - Non-Personnel', 0.2677),\n",
       " ('Local - Non-Personnel', 'Federal - Personnel', 0.0636),\n",
       " ('Local - Non-Personnel', 'Total Federal Expenditure', 0.1214),\n",
       " ('Local - Non-Personnel', 'Total Personnel Expenditure', 0.1037),\n",
       " ('Local - Non-Personnel', 'Total Expenditure', 0.4389),\n",
       " ('Local - Personnel', 'State - Non-Personnel', 0.3389),\n",
       " ('Local - Personnel', 'State - Personnel', 0.3847),\n",
       " ('Local - Personnel', 'Total State Expenditure', 0.3976),\n",
       " ('Local - Personnel', 'Federal - Non-Personnel', 0.0437),\n",
       " ('Local - Personnel', 'Federal - Personnel', 0.0463),\n",
       " ('Local - Personnel', 'Total Federal Expenditure', 0.0511),\n",
       " ('Local - Personnel', 'Total Non-Personnel Expenditure', 0.1018),\n",
       " ('Total Local Expenditure', 'State - Non-Personnel', 0.2879),\n",
       " ('Total Local Expenditure', 'State - Personnel', 0.422),\n",
       " ('Total Local Expenditure', 'Total State Expenditure', 0.4152),\n",
       " ('Total Local Expenditure', 'Federal - Non-Personnel', 0.055),\n",
       " ('Total Local Expenditure', 'Federal - Personnel', 0.017),\n",
       " ('Total Local Expenditure', 'Total Federal Expenditure', 0.0012),\n",
       " ('Total Local Expenditure', 'Total Non-Personnel Expenditure', 0.3805),\n",
       " ('State - Non-Personnel', 'Federal - Non-Personnel', 0.0848),\n",
       " ('State - Non-Personnel', 'Federal - Personnel', 0.0374),\n",
       " ('State - Non-Personnel', 'Total Federal Expenditure', 0.0116),\n",
       " ('State - Non-Personnel', 'Total Non-Personnel Expenditure', 0.4854),\n",
       " ('State - Non-Personnel', 'Total Personnel Expenditure', 0.1793),\n",
       " ('State - Non-Personnel', 'Total Expenditure', 0.3487),\n",
       " ('State - Personnel', 'Federal - Non-Personnel', 0.0108),\n",
       " ('State - Personnel', 'Federal - Personnel', 0.0268),\n",
       " ('State - Personnel', 'Total Federal Expenditure', 0.0207),\n",
       " ('State - Personnel', 'Total Non-Personnel Expenditure', 0.0848),\n",
       " ('State - Personnel', 'Total Personnel Expenditure', 0.3827),\n",
       " ('State - Personnel', 'Total Expenditure', 0.3575),\n",
       " ('Total State Expenditure', 'Federal - Non-Personnel', 0.0299),\n",
       " ('Total State Expenditure', 'Federal - Personnel', 0.0311),\n",
       " ('Total State Expenditure', 'Total Federal Expenditure', 0.0197),\n",
       " ('Total State Expenditure', 'Total Non-Personnel Expenditure', 0.1899),\n",
       " ('Total State Expenditure', 'Total Personnel Expenditure', 0.3562),\n",
       " ('Total State Expenditure', 'Total Expenditure', 0.3779),\n",
       " ('Federal - Non-Personnel', 'Federal - Personnel', 0.4244),\n",
       " ('Federal - Non-Personnel', 'Total Non-Personnel Expenditure', 0.3574),\n",
       " ('Federal - Non-Personnel', 'Total Personnel Expenditure', 0.0292),\n",
       " ('Federal - Non-Personnel', 'Total Expenditure', 0.17),\n",
       " ('Federal - Personnel', 'Total Non-Personnel Expenditure', 0.0735),\n",
       " ('Federal - Personnel', 'Total Personnel Expenditure', 0.0852),\n",
       " ('Federal - Personnel', 'Total Expenditure', 0.1018),\n",
       " ('Total Federal Expenditure', 'Total Non-Personnel Expenditure', 0.1521),\n",
       " ('Total Federal Expenditure', 'Total Personnel Expenditure', 0.0814),\n",
       " ('Total Federal Expenditure', 'Total Expenditure', 0.1305),\n",
       " ('Total Non-Personnel Expenditure', 'Total Personnel Expenditure', 0.178)]"
      ]
     },
     "execution_count": 9,
     "metadata": {},
     "output_type": "execute_result"
    }
   ],
   "source": [
    "# create list of feature pairs with |r|<0.5\n",
    "low_corr_pairs = low_corr(upper_corr_abs, 0.5)\n",
    "low_corr_pairs"
   ]
  },
  {
   "cell_type": "code",
   "execution_count": 10,
   "id": "dce55dfa",
   "metadata": {},
   "outputs": [
    {
     "data": {
      "text/plain": [
       "[('Title I (Binary)', 'Federal - Personnel', 0.564),\n",
       " ('Title I (Binary)', 'Total Federal Expenditure', 0.5554),\n",
       " ('Percent Regular Attendance (All Student)',\n",
       "  'Black/African American',\n",
       "  0.5249),\n",
       " ('Percent Regular Attendance (All Student)',\n",
       "  'Economically Disadvantaged',\n",
       "  0.5739),\n",
       " ('Black/African American', 'Economically Disadvantaged', 0.5677),\n",
       " ('Black/African American', 'Federal - Personnel', 0.5756),\n",
       " ('Black/African American', 'Total Federal Expenditure', 0.5777),\n",
       " ('Hispanic', 'White', 0.5649),\n",
       " ('White', 'English Learner', 0.566),\n",
       " ('White', 'Economically Disadvantaged', 0.6524),\n",
       " ('White', 'Federal - Personnel', 0.6012),\n",
       " ('White', 'Total Federal Expenditure', 0.6155),\n",
       " ('Economically Disadvantaged', 'Homeless', 0.5312),\n",
       " ('Economically Disadvantaged', 'Federal - Personnel', 0.6379),\n",
       " ('Economically Disadvantaged', 'Total Federal Expenditure', 0.6472),\n",
       " ('Local - Non-Personnel', 'Total Local Expenditure', 0.6102),\n",
       " ('Local - Personnel', 'Total Personnel Expenditure', 0.694),\n",
       " ('Local - Personnel', 'Total Expenditure', 0.6271),\n",
       " ('Total Local Expenditure', 'Total Personnel Expenditure', 0.6159),\n",
       " ('Total Local Expenditure', 'Total Expenditure', 0.6746),\n",
       " ('State - Non-Personnel', 'State - Personnel', 0.6788),\n",
       " ('Federal - Non-Personnel', 'Total Federal Expenditure', 0.616),\n",
       " ('Total Non-Personnel Expenditure', 'Total Expenditure', 0.557)]"
      ]
     },
     "execution_count": 10,
     "metadata": {},
     "output_type": "execute_result"
    }
   ],
   "source": [
    "# create list of feature pairs with 0.5<|r|<0.7\n",
    "mid_corr_pairs = mid_corr(upper_corr_abs, 0.5, 0.7)\n",
    "mid_corr_pairs"
   ]
  },
  {
   "cell_type": "code",
   "execution_count": 11,
   "id": "74ebf3ab",
   "metadata": {},
   "outputs": [
    {
     "data": {
      "text/plain": [
       "[('Male (School)', 'Female (School)', 1.0),\n",
       " ('Black/African American', 'White', 0.8143),\n",
       " ('Hispanic', 'English Learner', 0.7677),\n",
       " ('Local - Non-Personnel', 'Total Non-Personnel Expenditure', 0.8637),\n",
       " ('Local - Personnel', 'Total Local Expenditure', 0.9461),\n",
       " ('State - Non-Personnel', 'Total State Expenditure', 0.8016),\n",
       " ('State - Personnel', 'Total State Expenditure', 0.9832),\n",
       " ('Federal - Personnel', 'Total Federal Expenditure', 0.9747),\n",
       " ('Total Personnel Expenditure', 'Total Expenditure', 0.9164)]"
      ]
     },
     "execution_count": 11,
     "metadata": {},
     "output_type": "execute_result"
    }
   ],
   "source": [
    "# create list of feature pairs with |r|>0.7\n",
    "high_corr_pairs = high_corr(upper_corr_abs, 0.7)\n",
    "high_corr_pairs"
   ]
  },
  {
   "cell_type": "markdown",
   "id": "e40a2ee1",
   "metadata": {},
   "source": [
    "As expected, we have a few feature pairs that are highly correlated.  Certainly the percentage of male students and percentage of female students will have a correlation coefficient that is close to, if not equal to -1.  We're also seeing that the percentage of black students and percentage of white students are also strongly correlated. \n",
    "\n",
    "Most of the high correlation feature pairs are a result of the various 'Total' expenditure columns that we created during EDA.  \n",
    "\n",
    "Among the <b>second</b> element of the high correlation pairs, the only total that seems to be missing is 'Total Personnel Expenditure'.  We notice that when we look at the mid-correlation pairs, that 'Local - Personnel' and 'Total Personnel Expenditure' have a correlation coefficient of 0.694.  \n",
    "\n",
    "If we are removing our engineered 'Total' expenditure features, it may make sense to remove all of them.  As a result, we will run our function again, but with a threshold of 0.69."
   ]
  },
  {
   "cell_type": "code",
   "execution_count": 12,
   "id": "a3bf02fa",
   "metadata": {},
   "outputs": [
    {
     "data": {
      "text/plain": [
       "[('Male (School)', 'Female (School)', 1.0),\n",
       " ('Black/African American', 'White', 0.8143),\n",
       " ('Hispanic', 'English Learner', 0.7677),\n",
       " ('Local - Non-Personnel', 'Total Non-Personnel Expenditure', 0.8637),\n",
       " ('Local - Personnel', 'Total Local Expenditure', 0.9461),\n",
       " ('Local - Personnel', 'Total Personnel Expenditure', 0.694),\n",
       " ('State - Non-Personnel', 'Total State Expenditure', 0.8016),\n",
       " ('State - Personnel', 'Total State Expenditure', 0.9832),\n",
       " ('Federal - Personnel', 'Total Federal Expenditure', 0.9747),\n",
       " ('Total Personnel Expenditure', 'Total Expenditure', 0.9164)]"
      ]
     },
     "execution_count": 12,
     "metadata": {},
     "output_type": "execute_result"
    }
   ],
   "source": [
    "high_corr_pairs_2 = high_corr(upper_corr_abs, 0.69)\n",
    "high_corr_pairs_2"
   ]
  },
  {
   "cell_type": "markdown",
   "id": "c0204eb4",
   "metadata": {},
   "source": [
    "We'll create a list of features to potentially delete.  To do so, we'll select the second feature from each tuple pair.\n",
    "\n",
    "Then, we'll create a new design matrix without these features."
   ]
  },
  {
   "cell_type": "code",
   "execution_count": 13,
   "id": "7212d5b6",
   "metadata": {},
   "outputs": [],
   "source": [
    "# create an empty list of features to potentially delete\n",
    "corr_features = []\n",
    "\n",
    "# iterate through our high_corr_pairs list and add the second item of each tuple to our corr_features list\n",
    "for tup in high_corr_pairs_2:\n",
    "    corr_features.append(tup[1])"
   ]
  },
  {
   "cell_type": "code",
   "execution_count": 14,
   "id": "38bb19a3",
   "metadata": {},
   "outputs": [
    {
     "data": {
      "text/plain": [
       "['Total Expenditure',\n",
       " 'Total Federal Expenditure',\n",
       " 'Total Personnel Expenditure',\n",
       " 'English Learner',\n",
       " 'White',\n",
       " 'Female (School)',\n",
       " 'Total Non-Personnel Expenditure',\n",
       " 'Total State Expenditure',\n",
       " 'Total Local Expenditure']"
      ]
     },
     "execution_count": 14,
     "metadata": {},
     "output_type": "execute_result"
    }
   ],
   "source": [
    "# use the 'set' data structure to elimnate any duplicates\n",
    "corr_features = list(set(corr_features))\n",
    "corr_features"
   ]
  },
  {
   "cell_type": "code",
   "execution_count": 15,
   "id": "15dd6462",
   "metadata": {},
   "outputs": [],
   "source": [
    "# create new design matrix with these features deleted\n",
    "predictors_2 = predictors.drop(corr_features, axis = 1)"
   ]
  },
  {
   "cell_type": "markdown",
   "id": "26539d8d",
   "metadata": {},
   "source": [
    "## 3. Train Test Split"
   ]
  },
  {
   "cell_type": "markdown",
   "id": "a7646b47",
   "metadata": {},
   "source": [
    "80/20 split\n",
    "\n",
    "2 design matrices, all features and high corr features removed\n",
    "\n",
    "2 approaches of scaling, original and standard scaler\n",
    "\n",
    "2 models, math and ela\n",
    "\n",
    "8 models in total"
   ]
  },
  {
   "cell_type": "code",
   "execution_count": 49,
   "id": "342dfa3c",
   "metadata": {},
   "outputs": [
    {
     "data": {
      "image/png": "[encoded data removed]",
      "text/plain": [
       "<Figure size 1080x864 with 2 Axes>"
      ]
     },
     "metadata": {
      "needs_background": "light"
     },
     "output_type": "display_data"
    }
   ],
   "source": [
    "# plot the correlation heatmap\n",
    "plt.subplots(figsize=(15,12))\n",
    "sns.heatmap(upper_corr_abs_2)\n",
    "plt.show()"
   ]
  },
  {
   "cell_type": "code",
   "execution_count": 16,
   "id": "84691843",
   "metadata": {},
   "outputs": [
    {
     "name": "stdout",
     "output_type": "stream",
     "text": [
      "2138.4 534.6\n",
      "2138.4 534.6\n"
     ]
    }
   ],
   "source": [
    "#Check partition sizes with 80/20 train/test split\n",
    "print(len(predictors) * .8, len(predictors) * .2)\n",
    "print(len(predictors_2) * .8, len(predictors_2) * .2)"
   ]
  },
  {
   "cell_type": "markdown",
   "id": "cfe68b60",
   "metadata": {},
   "source": [
    "### All features, unscaled"
   ]
  },
  {
   "cell_type": "code",
   "execution_count": 17,
   "id": "d6f2bf05",
   "metadata": {},
   "outputs": [],
   "source": [
    "# create train test split with original predictors and ELA as the target variable\n",
    "X_train_ELA, X_test_ELA, y_train_ELA, y_test_ELA = train_test_split(predictors, \n",
    "                                                                    target_ELA, \n",
    "                                                                    test_size=0.2, \n",
    "                                                                    random_state=16)"
   ]
  },
  {
   "cell_type": "code",
   "execution_count": 18,
   "id": "5fb68646",
   "metadata": {},
   "outputs": [
    {
     "data": {
      "text/plain": [
       "((2138, 31), (535, 31))"
      ]
     },
     "execution_count": 18,
     "metadata": {},
     "output_type": "execute_result"
    }
   ],
   "source": [
    "#check partition size\n",
    "X_train_ELA.shape, X_test_ELA.shape"
   ]
  },
  {
   "cell_type": "code",
   "execution_count": 19,
   "id": "9617ac76",
   "metadata": {},
   "outputs": [
    {
     "data": {
      "text/plain": [
       "((2138,), (535,))"
      ]
     },
     "execution_count": 19,
     "metadata": {},
     "output_type": "execute_result"
    }
   ],
   "source": [
    "#check partition size\n",
    "y_train_ELA.shape, y_test_ELA.shape"
   ]
  },
  {
   "cell_type": "code",
   "execution_count": 20,
   "id": "a51c0f87",
   "metadata": {},
   "outputs": [],
   "source": [
    "# create train test split with original predictors and math as the target variable\n",
    "X_train_math, X_test_math, y_train_math, y_test_math = train_test_split(predictors, \n",
    "                                                                    target_math, \n",
    "                                                                    test_size=0.2, \n",
    "                                                                    random_state=16)"
   ]
  },
  {
   "cell_type": "markdown",
   "id": "9b92196c",
   "metadata": {},
   "source": [
    "Since we are using the same random state for both of these train/test splits, X_train_ELA and X_train_math should be identical, and the same should hold true for X_test_ELA and X_test_math.  But we will check to be sure."
   ]
  },
  {
   "cell_type": "code",
   "execution_count": 21,
   "id": "77ed1e48",
   "metadata": {},
   "outputs": [],
   "source": [
    "#confirm that X_train_ELA and X_train_math are equivalent dataframes\n",
    "\n",
    "from pandas.testing import assert_frame_equal\n",
    "\n",
    "assert_frame_equal(X_train_ELA, X_train_math)"
   ]
  },
  {
   "cell_type": "code",
   "execution_count": 22,
   "id": "9d511297",
   "metadata": {},
   "outputs": [],
   "source": [
    "#confirm that X_test_ELA and X_test_math are equivalent dataframes\n",
    "assert_frame_equal(X_test_ELA, X_test_math)"
   ]
  },
  {
   "cell_type": "markdown",
   "id": "64511f88",
   "metadata": {},
   "source": [
    "Since we've confirmed that these dataframes are equal, we will simply use X_train and X_test to refer to both of them, for simplicity."
   ]
  },
  {
   "cell_type": "code",
   "execution_count": 23,
   "id": "0f0917cd",
   "metadata": {},
   "outputs": [],
   "source": [
    "X_train = X_train_ELA\n",
    "X_test = X_test_ELA"
   ]
  },
  {
   "cell_type": "markdown",
   "id": "10098f01",
   "metadata": {},
   "source": [
    "### High correlation features removed, unscaled"
   ]
  },
  {
   "cell_type": "code",
   "execution_count": 24,
   "id": "e2b68caa",
   "metadata": {},
   "outputs": [],
   "source": [
    "# create train test split with high correlation predictors removed and ELA as the target variable\n",
    "X_train_rem, X_test_rem, y_train_ELA, y_test_ELA = train_test_split(predictors_2, \n",
    "                                                                    target_ELA, \n",
    "                                                                    test_size=0.2, \n",
    "                                                                    random_state=16)"
   ]
  },
  {
   "cell_type": "code",
   "execution_count": 25,
   "id": "398753a8",
   "metadata": {},
   "outputs": [],
   "source": [
    "# create train test split with high correlation predictors removed and math as the target variable\n",
    "X_train_rem, X_test_rem, y_train_math, y_test_math = train_test_split(predictors_2, \n",
    "                                                                    target_math, \n",
    "                                                                    test_size=0.2, \n",
    "                                                                    random_state=16)"
   ]
  },
  {
   "cell_type": "markdown",
   "id": "f9794d43",
   "metadata": {},
   "source": [
    "## 4. Feature Scaling"
   ]
  },
  {
   "cell_type": "markdown",
   "id": "98c4f08d",
   "metadata": {},
   "source": [
    "Apply standard scaler since some of our variables do not have a defined maximum value (namely our expenditures).\n",
    "\n",
    "To prevent potentially leaking information from our test set into the model, we will fit the scaler on only the training data and then standardize both the training and test sets with this scaler."
   ]
  },
  {
   "cell_type": "markdown",
   "id": "1b5325b8",
   "metadata": {},
   "source": [
    "First, we will fit and apply the scaler to our original X_train and X_test datasets, which still retains all of our highly correlated features."
   ]
  },
  {
   "cell_type": "code",
   "execution_count": 26,
   "id": "c0e49a2a",
   "metadata": {},
   "outputs": [],
   "source": [
    "# instantiate standard scaler\n",
    "sc1 = StandardScaler()\n",
    "\n",
    "# fit the scaler on the training set and transform it\n",
    "X_train_sc = sc1.fit_transform(X_train)\n",
    "\n",
    "# transform the test set\n",
    "X_test_sc = sc1.transform(X_test)"
   ]
  },
  {
   "cell_type": "markdown",
   "id": "dbcfc3fc",
   "metadata": {},
   "source": [
    "Next, we will fit and apply another scaler to our X_train_rem and X_test_rem datasets, which do NOT contain our highly correlated features."
   ]
  },
  {
   "cell_type": "code",
   "execution_count": 27,
   "id": "749ebb08",
   "metadata": {},
   "outputs": [],
   "source": [
    "# instantiate standard scaler\n",
    "sc2 = StandardScaler()\n",
    "\n",
    "# fit the scaler on the training set and transform it\n",
    "X_train_rem_sc = sc2.fit_transform(X_train_rem)\n",
    "\n",
    "# transform the test set\n",
    "X_test_rem_sc = sc2.transform(X_test_rem)"
   ]
  },
  {
   "cell_type": "markdown",
   "id": "f06c5239",
   "metadata": {},
   "source": [
    "## 5. Baseline Modeling"
   ]
  },
  {
   "cell_type": "markdown",
   "id": "7ae79943",
   "metadata": {},
   "source": [
    "For our initial baseline models, we will be using Linear Regression.  We will test the different combinations of training with all the features vs with highly correlated features removed and unscaled vs scaled.  We will also train two models for each combination, one where the target variable is Percent Proficient or Advanced in ELA and the other Percent Proficient or Advanced in Math.\n",
    "\n",
    "As a result, we have 8 models to train and test.  The table below shows all of the combinations, as well as the corresponding datasets used to train and test."
   ]
  },
  {
   "cell_type": "markdown",
   "id": "f939ea4d",
   "metadata": {},
   "source": [
    "| Features | Scaling | Subject | X train | X test | y train | y test |\n",
    "| --- | --- | --- | --- | --- | --- | --- |\n",
    "| All features | Unscaled | ELA | X_train | X_test | y_train_ELA | y_test_ELA |\n",
    "| All features | Unscaled | Math | X_train | X_test | y_train_math | y_test_math |\n",
    "| All features | Scaled | ELA | X_train_sc | X_test_sc | y_train_ELA | y_test_ELA |\n",
    "| All features | Scaled | Math | X_train_sc | X_test_sc | y_train_math | y_test_math |\n",
    "| Highly correlated features removed | Unscaled | ELA | X_train_rem | X_test_rem | y_train_ELA | y_test_ELA |\n",
    "| Highly correlated features removed | Unscaled | Math | X_train_rem | X_test_rem | y_train_math | y_test_math |\n",
    "| Highly correlated features removed | Scaled | ELA | X_train_rem_sc | X_test_rem_sc | y_train_ELA | y_test_ELA |\n",
    "| Highly correlated features removed | Scaled | Math | X_train_rem_sc | X_test_rem_sc | y_train_math | y_test_math |"
   ]
  },
  {
   "cell_type": "markdown",
   "id": "d9b011ce",
   "metadata": {},
   "source": [
    "For easier comparison, we will set up a table to compare metrics and define a function that will add the metrics of each model to this table."
   ]
  },
  {
   "cell_type": "code",
   "execution_count": 28,
   "id": "b678e0fa",
   "metadata": {},
   "outputs": [],
   "source": [
    "# set up column names for metrics table\n",
    "column_names = [\"Features\", \"Scaling\", \"Subject\", \"Train r2\", \"Train MAE\", \"Train MSE\", \"Test r2\", \"Test MAE\", \"Test MSE\"]\n",
    "\n",
    "# create dataframe for metrics table with column names listed above\n",
    "metrics = pd.DataFrame(columns = column_names)"
   ]
  },
  {
   "cell_type": "code",
   "execution_count": 29,
   "id": "67b1a031",
   "metadata": {},
   "outputs": [],
   "source": [
    "def add_metrics(Features, Scaling, Subject, y_train, y_train_pred, y_test, y_test_pred):\n",
    "    \n",
    "    new_row = {'Features':Features,\n",
    "               'Scaling':Scaling,\n",
    "               'Subject':Subject,\n",
    "               'Train r2': r2_score(y_train, y_train_pred),\n",
    "               'Train MAE': mean_absolute_error(y_train, y_train_pred),\n",
    "               'Train MSE': mean_squared_error(y_train, y_train_pred),\n",
    "               'Test r2': r2_score(y_test, y_test_pred),\n",
    "               'Test MAE': mean_absolute_error(y_test, y_test_pred),\n",
    "               'Test MSE': mean_squared_error(y_test, y_test_pred)}\n",
    "    \n",
    "    global metrics\n",
    "    \n",
    "    metrics = metrics.append(new_row, ignore_index = True)"
   ]
  },
  {
   "cell_type": "markdown",
   "id": "6331f3bc",
   "metadata": {},
   "source": [
    "### 5a. All features, unscaled"
   ]
  },
  {
   "cell_type": "code",
   "execution_count": 30,
   "id": "43359a0d",
   "metadata": {},
   "outputs": [],
   "source": [
    "# instantiate LinearRegression for ELA\n",
    "lr1_ELA = LinearRegression()\n",
    "\n",
    "#fit on training data for ELA\n",
    "lr1_ELA.fit(X_train, y_train_ELA)\n",
    "\n",
    "# predict on train set and test set\n",
    "y_train_ELA_pred = lr1_ELA.predict(X_train)\n",
    "y_test_ELA_pred = lr1_ELA.predict(X_test)"
   ]
  },
  {
   "cell_type": "code",
   "execution_count": 31,
   "id": "99b28626",
   "metadata": {},
   "outputs": [],
   "source": [
    "add_metrics('All features', 'Unscaled', 'ELA', y_train_ELA, y_train_ELA_pred, y_test_ELA, y_test_ELA_pred)"
   ]
  },
  {
   "cell_type": "code",
   "execution_count": 32,
   "id": "1cd61503",
   "metadata": {},
   "outputs": [],
   "source": [
    "# instantiate LinearRegression for math\n",
    "lr1_math = LinearRegression()\n",
    "\n",
    "#fit on training data for math\n",
    "lr1_math.fit(X_train, y_train_math)\n",
    "\n",
    "# predict on train set and test set\n",
    "y_train_math_pred = lr1_math.predict(X_train)\n",
    "y_test_math_pred = lr1_math.predict(X_test)"
   ]
  },
  {
   "cell_type": "code",
   "execution_count": 33,
   "id": "c65ac1fb",
   "metadata": {},
   "outputs": [],
   "source": [
    "add_metrics('All features', 'Unscaled', 'Math', y_train_math, y_train_math_pred, y_test_math, y_test_math_pred)"
   ]
  },
  {
   "cell_type": "markdown",
   "id": "2f2d7bfd",
   "metadata": {},
   "source": [
    "### 5b. All features, scaled"
   ]
  },
  {
   "cell_type": "code",
   "execution_count": 89,
   "id": "3e68808b",
   "metadata": {
    "scrolled": true
   },
   "outputs": [
    {
     "data": {
      "text/html": [
       "<div>\n",
       "<style scoped>\n",
       "    .dataframe tbody tr th:only-of-type {\n",
       "        vertical-align: middle;\n",
       "    }\n",
       "\n",
       "    .dataframe tbody tr th {\n",
       "        vertical-align: top;\n",
       "    }\n",
       "\n",
       "    .dataframe thead th {\n",
       "        text-align: right;\n",
       "    }\n",
       "</style>\n",
       "<table border=\"1\" class=\"dataframe\">\n",
       "  <thead>\n",
       "    <tr style=\"text-align: right;\">\n",
       "      <th></th>\n",
       "      <th>Features</th>\n",
       "      <th>Scaling</th>\n",
       "      <th>Subject</th>\n",
       "      <th>Train r2</th>\n",
       "      <th>Train MAE</th>\n",
       "      <th>Train MSE</th>\n",
       "      <th>Test r2</th>\n",
       "      <th>Test MAE</th>\n",
       "      <th>Test MSE</th>\n",
       "    </tr>\n",
       "  </thead>\n",
       "  <tbody>\n",
       "    <tr>\n",
       "      <th>0</th>\n",
       "      <td>All features</td>\n",
       "      <td>Unscaled</td>\n",
       "      <td>ELA</td>\n",
       "      <td>0.817979</td>\n",
       "      <td>6.3468</td>\n",
       "      <td>67.542195</td>\n",
       "      <td>0.786248</td>\n",
       "      <td>6.7753</td>\n",
       "      <td>78.457189</td>\n",
       "    </tr>\n",
       "  </tbody>\n",
       "</table>\n",
       "</div>"
      ],
      "text/plain": [
       "       Features   Scaling Subject  Train r2  Train MAE  Train MSE   Test r2  \\\n",
       "0  All features  Unscaled     ELA  0.817979     6.3468  67.542195  0.786248   \n",
       "\n",
       "   Test MAE   Test MSE  \n",
       "0    6.7753  78.457189  "
      ]
     },
     "execution_count": 89,
     "metadata": {},
     "output_type": "execute_result"
    }
   ],
   "source": [
    "metrics"
   ]
  },
  {
   "cell_type": "code",
   "execution_count": 34,
   "id": "8dbc20fe",
   "metadata": {},
   "outputs": [],
   "source": [
    "# instantiate LinearRegression for ELA\n",
    "lr2_ELA = LinearRegression()\n",
    "\n",
    "#fit on training data for ELA\n",
    "lr2_ELA.fit(X_train_sc, y_train_ELA)\n",
    "\n",
    "# predict on train set and test set\n",
    "y_train_ELA_pred2 = lr2_ELA.predict(X_train_sc)\n",
    "y_test_ELA_pred2 = lr2_ELA.predict(X_test_sc)"
   ]
  },
  {
   "cell_type": "code",
   "execution_count": 35,
   "id": "6e02a79a",
   "metadata": {},
   "outputs": [],
   "source": [
    "add_metrics('All features', 'Scaled', 'ELA', y_train_ELA, y_train_ELA_pred2, y_test_ELA, y_test_ELA_pred2)"
   ]
  },
  {
   "cell_type": "code",
   "execution_count": 36,
   "id": "f1d01507",
   "metadata": {},
   "outputs": [],
   "source": [
    "# instantiate LinearRegression for math\n",
    "lr2_math = LinearRegression()\n",
    "\n",
    "#fit on training data for ELA\n",
    "lr2_math.fit(X_train_sc, y_train_math)\n",
    "\n",
    "# predict on train set and test set\n",
    "y_train_math_pred2 = lr2_math.predict(X_train_sc)\n",
    "y_test_math_pred2 = lr2_math.predict(X_test_sc)"
   ]
  },
  {
   "cell_type": "code",
   "execution_count": 37,
   "id": "8c1cb212",
   "metadata": {},
   "outputs": [],
   "source": [
    "add_metrics('All features', 'Scaled', 'Math', y_train_math, y_train_math_pred2, y_test_math, y_test_math_pred2)"
   ]
  },
  {
   "cell_type": "markdown",
   "id": "9d171b41",
   "metadata": {},
   "source": [
    "### 5c. Highly correlated features removed, unscaled"
   ]
  },
  {
   "cell_type": "code",
   "execution_count": 38,
   "id": "5f0eff44",
   "metadata": {},
   "outputs": [],
   "source": [
    "# instantiate LinearRegression for ELA\n",
    "lr3_ELA = LinearRegression()\n",
    "\n",
    "#fit on training data for ELA\n",
    "lr3_ELA.fit(X_train_rem, y_train_ELA)\n",
    "\n",
    "# predict on train set and test set\n",
    "y_train_ELA_pred3 = lr3_ELA.predict(X_train_rem)\n",
    "y_test_ELA_pred3 = lr3_ELA.predict(X_test_rem)"
   ]
  },
  {
   "cell_type": "code",
   "execution_count": 39,
   "id": "56ade43b",
   "metadata": {},
   "outputs": [],
   "source": [
    "add_metrics('Highly correlated features removed', 'Unscaled', 'ELA', y_train_ELA, y_train_ELA_pred3, y_test_ELA, y_test_ELA_pred3)"
   ]
  },
  {
   "cell_type": "code",
   "execution_count": 40,
   "id": "b4cace9f",
   "metadata": {},
   "outputs": [],
   "source": [
    "# instantiate LinearRegression for math\n",
    "lr3_math = LinearRegression()\n",
    "\n",
    "#fit on training data for ELA\n",
    "lr3_math.fit(X_train_rem, y_train_math)\n",
    "\n",
    "# predict on train set and test set\n",
    "y_train_math_pred3 = lr3_math.predict(X_train_rem)\n",
    "y_test_math_pred3 = lr3_math.predict(X_test_rem)"
   ]
  },
  {
   "cell_type": "code",
   "execution_count": 41,
   "id": "0ad65b32",
   "metadata": {},
   "outputs": [],
   "source": [
    "add_metrics('Highly correlated features removed', 'Unscaled', 'Math', y_train_math, y_train_math_pred3, y_test_math, y_test_math_pred3)"
   ]
  },
  {
   "cell_type": "markdown",
   "id": "f2f77738",
   "metadata": {},
   "source": [
    "### 5d. Highly correlated features removed, scaled"
   ]
  },
  {
   "cell_type": "code",
   "execution_count": 42,
   "id": "544696e7",
   "metadata": {},
   "outputs": [],
   "source": [
    "# instantiate LinearRegression for ELA\n",
    "lr4_ELA = LinearRegression()\n",
    "\n",
    "#fit on training data for ELA\n",
    "lr4_ELA.fit(X_train_rem_sc, y_train_ELA)\n",
    "\n",
    "# predict on train set and test set\n",
    "y_train_ELA_pred4 = lr4_ELA.predict(X_train_rem_sc)\n",
    "y_test_ELA_pred4 = lr4_ELA.predict(X_test_rem_sc)"
   ]
  },
  {
   "cell_type": "code",
   "execution_count": 43,
   "id": "f132cc7a",
   "metadata": {},
   "outputs": [],
   "source": [
    "add_metrics('Highly correlated features removed', \n",
    "            'Scaled', \n",
    "            'ELA', \n",
    "            y_train_ELA, \n",
    "            y_train_ELA_pred4, \n",
    "            y_test_ELA, \n",
    "            y_test_ELA_pred4\n",
    "           )\n"
   ]
  },
  {
   "cell_type": "code",
   "execution_count": 44,
   "id": "7eeba112",
   "metadata": {},
   "outputs": [],
   "source": [
    "# instantiate LinearRegression for math\n",
    "lr4_math = LinearRegression()\n",
    "\n",
    "#fit on training data for math\n",
    "lr4_math.fit(X_train_rem_sc, y_train_math)\n",
    "\n",
    "# predict on train set and test set\n",
    "y_train_math_pred4 = lr4_math.predict(X_train_rem_sc)\n",
    "y_test_math_pred4 = lr4_math.predict(X_test_rem_sc)"
   ]
  },
  {
   "cell_type": "code",
   "execution_count": 45,
   "id": "37001e38",
   "metadata": {},
   "outputs": [],
   "source": [
    "add_metrics('Highly correlated features removed', 'Scaled', 'Math', y_train_math, y_train_math_pred4, y_test_math, y_test_math_pred4)\n"
   ]
  },
  {
   "cell_type": "code",
   "execution_count": 46,
   "id": "a6b791c5",
   "metadata": {},
   "outputs": [
    {
     "data": {
      "text/html": [
       "<div>\n",
       "<style scoped>\n",
       "    .dataframe tbody tr th:only-of-type {\n",
       "        vertical-align: middle;\n",
       "    }\n",
       "\n",
       "    .dataframe tbody tr th {\n",
       "        vertical-align: top;\n",
       "    }\n",
       "\n",
       "    .dataframe thead th {\n",
       "        text-align: right;\n",
       "    }\n",
       "</style>\n",
       "<table border=\"1\" class=\"dataframe\">\n",
       "  <thead>\n",
       "    <tr style=\"text-align: right;\">\n",
       "      <th></th>\n",
       "      <th>Features</th>\n",
       "      <th>Scaling</th>\n",
       "      <th>Subject</th>\n",
       "      <th>Train r2</th>\n",
       "      <th>Train MAE</th>\n",
       "      <th>Train MSE</th>\n",
       "      <th>Test r2</th>\n",
       "      <th>Test MAE</th>\n",
       "      <th>Test MSE</th>\n",
       "    </tr>\n",
       "  </thead>\n",
       "  <tbody>\n",
       "    <tr>\n",
       "      <th>0</th>\n",
       "      <td>All features</td>\n",
       "      <td>Unscaled</td>\n",
       "      <td>ELA</td>\n",
       "      <td>0.817979</td>\n",
       "      <td>6.346800</td>\n",
       "      <td>67.542195</td>\n",
       "      <td>0.786248</td>\n",
       "      <td>6.775300</td>\n",
       "      <td>78.457189</td>\n",
       "    </tr>\n",
       "    <tr>\n",
       "      <th>1</th>\n",
       "      <td>All features</td>\n",
       "      <td>Unscaled</td>\n",
       "      <td>Math</td>\n",
       "      <td>0.692955</td>\n",
       "      <td>9.810908</td>\n",
       "      <td>149.014700</td>\n",
       "      <td>0.655520</td>\n",
       "      <td>10.215045</td>\n",
       "      <td>164.926789</td>\n",
       "    </tr>\n",
       "    <tr>\n",
       "      <th>2</th>\n",
       "      <td>All features</td>\n",
       "      <td>Scaled</td>\n",
       "      <td>ELA</td>\n",
       "      <td>0.799005</td>\n",
       "      <td>6.677475</td>\n",
       "      <td>74.582629</td>\n",
       "      <td>0.771052</td>\n",
       "      <td>6.948462</td>\n",
       "      <td>84.034624</td>\n",
       "    </tr>\n",
       "    <tr>\n",
       "      <th>3</th>\n",
       "      <td>All features</td>\n",
       "      <td>Scaled</td>\n",
       "      <td>Math</td>\n",
       "      <td>0.700370</td>\n",
       "      <td>9.679650</td>\n",
       "      <td>145.416010</td>\n",
       "      <td>0.655321</td>\n",
       "      <td>10.117124</td>\n",
       "      <td>165.021946</td>\n",
       "    </tr>\n",
       "    <tr>\n",
       "      <th>4</th>\n",
       "      <td>Highly correlated features removed</td>\n",
       "      <td>Unscaled</td>\n",
       "      <td>ELA</td>\n",
       "      <td>0.813733</td>\n",
       "      <td>6.440508</td>\n",
       "      <td>69.117565</td>\n",
       "      <td>0.779964</td>\n",
       "      <td>6.867509</td>\n",
       "      <td>80.763622</td>\n",
       "    </tr>\n",
       "    <tr>\n",
       "      <th>5</th>\n",
       "      <td>Highly correlated features removed</td>\n",
       "      <td>Unscaled</td>\n",
       "      <td>Math</td>\n",
       "      <td>0.699401</td>\n",
       "      <td>9.694240</td>\n",
       "      <td>145.886500</td>\n",
       "      <td>0.656550</td>\n",
       "      <td>10.095536</td>\n",
       "      <td>164.433747</td>\n",
       "    </tr>\n",
       "    <tr>\n",
       "      <th>6</th>\n",
       "      <td>Highly correlated features removed</td>\n",
       "      <td>Scaled</td>\n",
       "      <td>ELA</td>\n",
       "      <td>0.813733</td>\n",
       "      <td>6.440508</td>\n",
       "      <td>69.117565</td>\n",
       "      <td>0.779964</td>\n",
       "      <td>6.867509</td>\n",
       "      <td>80.763622</td>\n",
       "    </tr>\n",
       "    <tr>\n",
       "      <th>7</th>\n",
       "      <td>Highly correlated features removed</td>\n",
       "      <td>Scaled</td>\n",
       "      <td>Math</td>\n",
       "      <td>0.699401</td>\n",
       "      <td>9.694240</td>\n",
       "      <td>145.886500</td>\n",
       "      <td>0.656550</td>\n",
       "      <td>10.095536</td>\n",
       "      <td>164.433747</td>\n",
       "    </tr>\n",
       "  </tbody>\n",
       "</table>\n",
       "</div>"
      ],
      "text/plain": [
       "                             Features   Scaling Subject  Train r2  Train MAE  \\\n",
       "0                        All features  Unscaled     ELA  0.817979   6.346800   \n",
       "1                        All features  Unscaled    Math  0.692955   9.810908   \n",
       "2                        All features    Scaled     ELA  0.799005   6.677475   \n",
       "3                        All features    Scaled    Math  0.700370   9.679650   \n",
       "4  Highly correlated features removed  Unscaled     ELA  0.813733   6.440508   \n",
       "5  Highly correlated features removed  Unscaled    Math  0.699401   9.694240   \n",
       "6  Highly correlated features removed    Scaled     ELA  0.813733   6.440508   \n",
       "7  Highly correlated features removed    Scaled    Math  0.699401   9.694240   \n",
       "\n",
       "    Train MSE   Test r2   Test MAE    Test MSE  \n",
       "0   67.542195  0.786248   6.775300   78.457189  \n",
       "1  149.014700  0.655520  10.215045  164.926789  \n",
       "2   74.582629  0.771052   6.948462   84.034624  \n",
       "3  145.416010  0.655321  10.117124  165.021946  \n",
       "4   69.117565  0.779964   6.867509   80.763622  \n",
       "5  145.886500  0.656550  10.095536  164.433747  \n",
       "6   69.117565  0.779964   6.867509   80.763622  \n",
       "7  145.886500  0.656550  10.095536  164.433747  "
      ]
     },
     "execution_count": 46,
     "metadata": {},
     "output_type": "execute_result"
    }
   ],
   "source": [
    "metrics"
   ]
  },
  {
   "cell_type": "markdown",
   "id": "cef66762",
   "metadata": {},
   "source": [
    "If we are looking at school performance in ELA, our best linear regression model takes into account <u>all features</u> and does <b>not</b> scale the data. This model has the highest test $r^2$ score, and the lowest test MAE and test MSE.\n",
    "\n",
    "If we are looking at school performance in Math, our best linear regression model has the highly correlated features removed.  Interestingly, when we remove our highly correlated features, our model \n",
    "\n",
    "This model has the highest test $r^2$ score, and the lowest test MAE and test MSE."
   ]
  },
  {
   "cell_type": "markdown",
   "id": "cf4c7c96",
   "metadata": {},
   "source": [
    "## 6. Plan for extended modeling"
   ]
  },
  {
   "cell_type": "markdown",
   "id": "5bbc89ba",
   "metadata": {},
   "source": [
    "linear regression\n",
    "ridge regression\n",
    "LASSO regression\n",
    "\n"
   ]
  },
  {
   "cell_type": "code",
   "execution_count": null,
   "id": "8423c21c",
   "metadata": {},
   "outputs": [],
   "source": []
  }
 ],
 "metadata": {
  "kernelspec": {
   "display_name": "Python 3 (ipykernel)",
   "language": "python",
   "name": "python3"
  },
  "language_info": {
   "codemirror_mode": {
    "name": "ipython",
    "version": 3
   },
   "file_extension": ".py",
   "mimetype": "text/x-python",
   "name": "python",
   "nbconvert_exporter": "python",
   "pygments_lexer": "ipython3",
   "version": "3.8.12"
  }
 },
 "nbformat": 4,
 "nbformat_minor": 5
}
